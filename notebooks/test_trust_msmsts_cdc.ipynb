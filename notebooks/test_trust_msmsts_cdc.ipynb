{
 "cells": [
  {
   "cell_type": "code",
   "execution_count": null,
   "metadata": {},
   "outputs": [],
   "source": [
    "%load_ext autoreload\n",
    "%autoreload 2\n",
    "\n",
    "import numpy as np\n",
    "import mate\n",
    "import avstack\n",
    "from scipy.stats import beta\n",
    "import matplotlib.pyplot as plt"
   ]
  },
  {
   "attachments": {},
   "cell_type": "markdown",
   "metadata": {},
   "source": [
    "### Mapping CertainTrust to Beta"
   ]
  },
  {
   "cell_type": "code",
   "execution_count": null,
   "metadata": {},
   "outputs": [],
   "source": [
    "# system of linear equations\n",
    "def map_f_to_opinion_init(f):\n",
    "    \"\"\"Underdetermined problem? s0 = (1-f)*r0 / f\"\"\"\n",
    "    r0 = 1.0\n",
    "    s0 = (1-f)*r0 / f\n",
    "    return r0, s0\n",
    "\n",
    "\n",
    "def map_ct_to_beta(t, c, f):\n",
    "    r0, s0 = map_f_to_opinion_init(f)\n",
    "    b = np.array([\n",
    "        (t-1)*r0 + t*s0,\n",
    "        (c-1)*r0 + (c-1)*s0 - 2*c,\n",
    "    ])\n",
    "    A = np.array([\n",
    "        [t-1, 1],\n",
    "        [c-1, c-1],\n",
    "    ])\n",
    "    x = np.linalg.solve(A, b)\n",
    "    return x"
   ]
  },
  {
   "cell_type": "code",
   "execution_count": null,
   "metadata": {},
   "outputs": [],
   "source": [
    "params = map_ct_to_beta(0.5, 0.5, 0.5)\n",
    "\n",
    "fig, ax = plt.subplots(1, 1)\n",
    "x = np.linspace(beta.ppf(0.01, params[0], params[1]),\n",
    "                beta.ppf(0.99, params[0], params[1]), 100)\n",
    "ax.plot(x, beta.pdf(x, params[0], params[1]),\n",
    "       'r-', lw=5, alpha=0.6, label='beta pdf')\n"
   ]
  },
  {
   "cell_type": "markdown",
   "metadata": {},
   "source": [
    "## Testing Cluster Scoring"
   ]
  },
  {
   "cell_type": "code",
   "execution_count": null,
   "metadata": {},
   "outputs": [],
   "source": [
    "import itertools\n",
    "from avstack.geometry import Sphere, Position, GlobalOrigin3D\n",
    "\n",
    "\n",
    "class FakeTrack:\n",
    "    _ids = itertools.count()\n",
    "    def __init__(self, xyz, probability):\n",
    "        self.x = xyz\n",
    "        self.probability = probability\n",
    "        self.ID = next(FakeTrack._ids)\n",
    "        self.reference = GlobalOrigin3D\n",
    "\n",
    "    @property\n",
    "    def position(self):\n",
    "        return Position(self.x, reference=self.reference)\n",
    "\n",
    "    def distance(self, other, check_reference=False):\n",
    "        return np.linalg.norm(self.x - other.x)\n",
    "\n",
    "\n",
    "n_agents_see = 2\n",
    "n_agents_nosee = 0\n",
    "agents = {k: None for k in range(n_agents_see + n_agents_nosee)}\n",
    "fovs = {k: Sphere(radius=2) for k in agents}\n",
    "tracks = {k: [FakeTrack(xyz=np.random.rand(3), probability=np.random.uniform(low=0.8, high=1.0))] for k in range(n_agents_see)}\n",
    "clusterer = avstack.modules.clustering.SampledAssignmentClusterer(assign_radius=3)\n",
    "cluster_scorer = mate.measurement.ClusterScorerV1()"
   ]
  },
  {
   "cell_type": "code",
   "execution_count": null,
   "metadata": {},
   "outputs": [],
   "source": [
    "# get scores for clusters\n",
    "clusters = clusterer(tracks, frame=0, timestamp=0)\n",
    "prior = mate.measurement.UncertainTrustFloat(trust=0.5, confidence=0.5, prior=0.5, ID=clusters[0].ID)\n",
    "taus = cluster_scorer(\n",
    "    cluster=clusters[0],\n",
    "    agents=None,\n",
    "    poses=None,\n",
    "    fovs=fovs,\n",
    "    prior=prior,\n",
    "    Pd=0.9\n",
    ")\n",
    "taus\n",
    "\n",
    "def normalize(cs, exp=1):\n",
    "    return cs**exp / sum(cs**exp)\n",
    "\n",
    "# perform weighted combinations\n",
    "ts = np.asarray([t.t for t in taus])\n",
    "cs = np.asarray([t.c for t in taus])\n",
    "w_norm = normalize(cs)\n",
    "trust = ts @ w_norm\n",
    "confidence = 1 - np.var(ts)\n",
    "\n",
    "# print result\n",
    "trust, confidence"
   ]
  }
 ],
 "metadata": {
  "kernelspec": {
   "display_name": "mate-anjulgyC-py3.10",
   "language": "python",
   "name": "python3"
  },
  "language_info": {
   "codemirror_mode": {
    "name": "ipython",
    "version": 3
   },
   "file_extension": ".py",
   "mimetype": "text/x-python",
   "name": "python",
   "nbconvert_exporter": "python",
   "pygments_lexer": "ipython3",
   "version": "3.10.12"
  },
  "vscode": {
   "interpreter": {
    "hash": "47e93aaed00cdf9cc1559b6ae09069cd8788ce5bd0fbfe97e48a970742fcf35b"
   }
  }
 },
 "nbformat": 4,
 "nbformat_minor": 2
}
