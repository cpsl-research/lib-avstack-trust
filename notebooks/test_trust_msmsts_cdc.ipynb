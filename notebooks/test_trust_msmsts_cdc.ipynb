{
 "cells": [
  {
   "cell_type": "code",
   "execution_count": null,
   "metadata": {},
   "outputs": [],
   "source": [
    "import numpy as np\n",
    "import mate\n",
    "from scipy.stats import beta\n",
    "import matplotlib.pyplot as plt"
   ]
  },
  {
   "attachments": {},
   "cell_type": "markdown",
   "metadata": {},
   "source": [
    "### Mapping CertainTrust to Beta"
   ]
  },
  {
   "cell_type": "code",
   "execution_count": null,
   "metadata": {},
   "outputs": [],
   "source": [
    "# system of linear equations\n",
    "def map_f_to_opinion_init(f):\n",
    "    \"\"\"Underdetermined problem? s0 = (1-f)*r0 / f\"\"\"\n",
    "    r0 = 1.0\n",
    "    s0 = (1-f)*r0 / f\n",
    "    return r0, s0\n",
    "\n",
    "\n",
    "def map_ct_to_beta(t, c, f):\n",
    "    r0, s0 = map_f_to_opinion_init(f)\n",
    "    b = np.array([\n",
    "        (t-1)*r0 + t*s0,\n",
    "        (c-1)*r0 + (c-1)*s0 - 2*c,\n",
    "    ])\n",
    "    A = np.array([\n",
    "        [t-1, 1],\n",
    "        [c-1, c-1],\n",
    "    ])\n",
    "    x = np.linalg.solve(A, b)\n",
    "    return x"
   ]
  },
  {
   "cell_type": "code",
   "execution_count": null,
   "metadata": {},
   "outputs": [],
   "source": [
    "params = map_ct_to_beta(0.5, 0.5, 0.5)\n",
    "\n",
    "fig, ax = plt.subplots(1, 1)\n",
    "x = np.linspace(beta.ppf(0.01, params[0], params[1]),\n",
    "                beta.ppf(0.99, params[0], params[1]), 100)\n",
    "ax.plot(x, beta.pdf(x, params[0], params[1]),\n",
    "       'r-', lw=5, alpha=0.6, label='beta pdf')\n"
   ]
  },
  {
   "cell_type": "code",
   "execution_count": null,
   "metadata": {},
   "outputs": [],
   "source": []
  }
 ],
 "metadata": {
  "kernelspec": {
   "display_name": "mate-anjulgyC-py3.10",
   "language": "python",
   "name": "python3"
  },
  "language_info": {
   "codemirror_mode": {
    "name": "ipython",
    "version": 3
   },
   "file_extension": ".py",
   "mimetype": "text/x-python",
   "name": "python",
   "nbconvert_exporter": "python",
   "pygments_lexer": "ipython3",
   "version": "3.10.12"
  },
  "vscode": {
   "interpreter": {
    "hash": "47e93aaed00cdf9cc1559b6ae09069cd8788ce5bd0fbfe97e48a970742fcf35b"
   }
  }
 },
 "nbformat": 4,
 "nbformat_minor": 2
}
