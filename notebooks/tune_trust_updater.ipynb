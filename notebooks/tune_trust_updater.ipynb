{
 "cells": [
  {
   "cell_type": "markdown",
   "metadata": {},
   "source": [
    "# Tuning the trust updater functionality"
   ]
  },
  {
   "cell_type": "code",
   "execution_count": 1,
   "metadata": {},
   "outputs": [
    {
     "name": "stdout",
     "output_type": "stream",
     "text": [
      "The autoreload extension is already loaded. To reload it, use:\n",
      "  %reload_ext autoreload\n"
     ]
    }
   ],
   "source": [
    "%load_ext autoreload\n",
    "%autoreload 2\n",
    "    \n",
    "from typing import List\n",
    "import numpy as np\n",
    "from scipy.stats import beta\n",
    "import matplotlib.pyplot as plt\n",
    "from avtrust import TrustBetaDistribution, TrustArray, Psm, PsmArray"
   ]
  },
  {
   "cell_type": "code",
   "execution_count": 2,
   "metadata": {},
   "outputs": [],
   "source": [
    "def init_agent_trusts(\n",
    "    alpha0: float = 1.0,\n",
    "    beta0: float = 1.0,\n",
    "    negativity_bias: float = 1.0,\n",
    "    n_agents: int = 4,\n",
    "):\n",
    "    \"\"\"Initialize vanilla trust distributions\"\"\"\n",
    "    trusts = TrustArray(\n",
    "        timestamp=0.0,\n",
    "        trusts=[\n",
    "            TrustBetaDistribution(\n",
    "                timestamp=0.0,\n",
    "                identifier=i_agent,\n",
    "                alpha=alpha0,\n",
    "                beta=beta0,\n",
    "                negativity_bias=negativity_bias,\n",
    "            )\n",
    "            for i_agent in range(n_agents)\n",
    "        ]\n",
    "    )\n",
    "    return trusts\n",
    "\n",
    "def randn_clipped(\n",
    "    rng: np.random.RandomState,\n",
    "    v_mean: float=0.0,\n",
    "    v_sigma: float=1.0,\n",
    "    v_min: float=-np.inf,\n",
    "    v_max: float=np.inf,\n",
    "):\n",
    "    return min(v_max, max(v_min, v_mean + v_sigma * rng.randn()))\n",
    "\n",
    "def get_psms_for_target(\n",
    "    timestamp: float,\n",
    "    target: int,\n",
    "    sources: List[int],\n",
    "    value_mean: List[float],\n",
    "    value_sigma: List[float],\n",
    "    confidence_mean: List[float],\n",
    "    confidence_sigma: List[float],\n",
    "    rng: np.random.RandomState,\n",
    "):\n",
    "    \"\"\"Get an array of random psms\"\"\"\n",
    "    zip_loops = zip(\n",
    "        sources,\n",
    "        value_mean,\n",
    "        value_sigma,\n",
    "        confidence_mean,\n",
    "        confidence_sigma\n",
    "    )\n",
    "    psms = PsmArray(\n",
    "        timestamp=timestamp,\n",
    "        psms=[\n",
    "            Psm(\n",
    "                timestamp=timestamp,\n",
    "                target=target,\n",
    "                value=randn_clipped(rng, vm, vs, 0.0, 1.0),\n",
    "                confidence=randn_clipped(rng, cm, vs, 0.0, 1.0),\n",
    "                source=source\n",
    "            )\n",
    "            for source, vm, vs, cm, vs in zip_loops\n",
    "       ]\n",
    "    )\n",
    "    return psms\n",
    "\n",
    "\n",
    "def get_psms(\n",
    "    rng: np.random.RandomState,\n",
    "    timestamp: float,\n",
    "    i_agent: int,\n",
    "    n_msmts: int,\n",
    "    vm: float,\n",
    "    vs: float,\n",
    "    cm: float,\n",
    "    cs: float,\n",
    "):\n",
    "    \"\"\"Wrapper for getting a list of psms\"\"\"\n",
    "    sources = list(range(n_msmts))\n",
    "    value_mean = [vm] * n_msmts\n",
    "    value_sigma = [vs] * n_msmts\n",
    "    conf_mean = [cm] * n_msmts\n",
    "    conf_sigma = [cs] * n_msmts\n",
    "    psms = get_psms_for_target(\n",
    "        rng=rng,\n",
    "        timestamp=timestamp,\n",
    "        target=i_agent,\n",
    "        sources=sources,\n",
    "        value_mean=value_mean,\n",
    "        value_sigma=value_sigma,\n",
    "        confidence_mean=conf_mean,\n",
    "        confidence_sigma=conf_sigma,\n",
    "    )\n",
    "    return psms"
   ]
  },
  {
   "cell_type": "markdown",
   "metadata": {},
   "source": [
    "### Scenario 1: Positive trust values should ultimately converge"
   ]
  },
  {
   "cell_type": "code",
   "execution_count": 11,
   "metadata": {},
   "outputs": [
    {
     "data": {
      "image/png": "[encoded data removed]",
      "text/plain": [
       "<Figure size 600x400 with 1 Axes>"
      ]
     },
     "metadata": {},
     "output_type": "display_data"
    }
   ],
   "source": [
    "# random seed\n",
    "seed = 1\n",
    "rng = np.random.RandomState(seed=seed)\n",
    "\n",
    "# scenario parameters\n",
    "n_frames = 20\n",
    "dt = 0.1\n",
    "n_agents = 1\n",
    "n_msmts = 5\n",
    "\n",
    "# run trust loop\n",
    "trusts = init_agent_trusts(n_agents=n_agents, negativity_bias=10.0)\n",
    "for i_frame in range(n_frames):\n",
    "    for i_agent in range(n_agents):\n",
    "        # positive psms\n",
    "        psms = get_psms(\n",
    "            rng=rng,\n",
    "            i_agent=i_agent,\n",
    "            timestamp=dt*i_frame,\n",
    "            n_msmts=n_msmts,\n",
    "            vm=0.8,\n",
    "            vs=0.2,\n",
    "            cm=0.8,\n",
    "            cs=0.2\n",
    "        )\n",
    "        # update\n",
    "        for psm in psms:\n",
    "            trusts[i_agent].update(psm)\n",
    "\n",
    "# plot results\n",
    "fig, ax = plt.subplots(1, 1, figsize=(6, 4))\n",
    "x_trust = np.linspace(0.0, 1.0, num=1000)\n",
    "for i_agent in range(n_agents):\n",
    "    y_trust = beta.pdf(x_trust, trusts[i_agent].alpha, trusts[i_agent].beta)\n",
    "    ax.plot(x_trust, y_trust, label=f\"Agent {i_agent}\")\n",
    "plt.legend()\n",
    "plt.show()"
   ]
  },
  {
   "cell_type": "markdown",
   "metadata": {},
   "source": [
    "### Scenario 2: Negative trust values should outweigh the positives"
   ]
  },
  {
   "cell_type": "code",
   "execution_count": 31,
   "metadata": {},
   "outputs": [
    {
     "data": {
      "image/png": "[encoded data removed]",
      "text/plain": [
       "<Figure size 600x400 with 1 Axes>"
      ]
     },
     "metadata": {},
     "output_type": "display_data"
    }
   ],
   "source": [
    "# random seed\n",
    "seed = 1\n",
    "rng = np.random.RandomState(seed=seed)\n",
    "\n",
    "# scenario parameters\n",
    "n_frames = 20\n",
    "dt = 0.1\n",
    "n_agents = 1\n",
    "n_msmts_positive = 4\n",
    "n_msmts_negative = 1\n",
    "\n",
    "# run trust loop\n",
    "trusts = init_agent_trusts(n_agents=n_agents, negativity_bias=2.0)\n",
    "for i_frame in range(n_frames):\n",
    "    for i_agent in range(n_agents):\n",
    "        # positive psms\n",
    "        psms_positive = get_psms(\n",
    "            rng=rng,\n",
    "            i_agent=i_agent,\n",
    "            timestamp=dt*i_frame,\n",
    "            n_msmts=n_msmts_positive,\n",
    "            vm=0.9,\n",
    "            vs=0.2,\n",
    "            cm=0.8,\n",
    "            cs=0.2\n",
    "        )\n",
    "        # negative psms\n",
    "        psms_negative = get_psms(\n",
    "            rng=rng,\n",
    "            i_agent=i_agent,\n",
    "            timestamp=dt*i_frame,\n",
    "            n_msmts=n_msmts_negative,\n",
    "            vm=0.2,\n",
    "            vs=0.2,\n",
    "            cm=0.8,\n",
    "            cs=0.2\n",
    "        )\n",
    "        # update\n",
    "        for psm in [*psms_positive, *psms_negative]:\n",
    "            trusts[i_agent].update(psm)\n",
    "\n",
    "# plot results\n",
    "fig, ax = plt.subplots(1, 1, figsize=(6, 4))\n",
    "x_trust = np.linspace(0.0, 1.0, num=1000)\n",
    "for i_agent in range(n_agents):\n",
    "    y_trust = beta.pdf(x_trust, trusts[i_agent].alpha, trusts[i_agent].beta)\n",
    "    ax.plot(x_trust, y_trust, label=f\"Agent {i_agent}\")\n",
    "plt.legend()\n",
    "plt.show()"
   ]
  },
  {
   "cell_type": "code",
   "execution_count": null,
   "metadata": {},
   "outputs": [],
   "source": []
  },
  {
   "cell_type": "code",
   "execution_count": null,
   "metadata": {},
   "outputs": [],
   "source": []
  }
 ],
 "metadata": {
  "kernelspec": {
   "display_name": "Python 3 (ipykernel)",
   "language": "python",
   "name": "python3"
  },
  "language_info": {
   "codemirror_mode": {
    "name": "ipython",
    "version": 3
   },
   "file_extension": ".py",
   "mimetype": "text/x-python",
   "name": "python",
   "nbconvert_exporter": "python",
   "pygments_lexer": "ipython3",
   "version": "3.10.12"
  },
  "vscode": {
   "interpreter": {
    "hash": "e34a3fdfcf3630a80e000f94537b2fb6cfa81418d2199451c8a97cfcbd5f3443"
   }
  }
 },
 "nbformat": 4,
 "nbformat_minor": 4
}
