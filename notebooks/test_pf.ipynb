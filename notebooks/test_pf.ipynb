{
 "cells": [
  {
   "cell_type": "code",
   "execution_count": null,
   "metadata": {},
   "outputs": [],
   "source": [
    "import numpy as np\n",
    "import matplotlib.pyplot as plt\n",
    "from mate import distribution\n",
    "from mate.estimate import MaximumLikelihoodTrustEstimator, SIRParticleFilterTrustEstimator"
   ]
  },
  {
   "cell_type": "code",
   "execution_count": null,
   "metadata": {},
   "outputs": [],
   "source": [
    "def plot_estims(estim_mle, estim_pf, trusts):\n",
    "    plt.hist(estim_pf.sample(10000), density=True, bins=20, alpha=0.5, label=\"PF\")\n",
    "    plt.hist(estim_mle.dist.rvs(n=10000), density=True, bins=20, alpha=0.5, label=\"MLE\")\n",
    "    plt.hist(trusts, density=True, bins=20, alpha=0.5, label=\"Measurements\")\n",
    "    plt.xlim([0,1])\n",
    "    plt.legend()\n",
    "    plt.show()"
   ]
  },
  {
   "cell_type": "code",
   "execution_count": null,
   "metadata": {},
   "outputs": [],
   "source": [
    "# configuration for particle filter\n",
    "n_particles = 10000\n",
    "prior = {\"type\": \"Beta\", \"mean\": 0.5, \"var\": 0.1**2}\n",
    "likelihood = {\"type\": \"Normal\", \"mean\": 0.0, \"variance\": 0.05**2}\n",
    "estim_pf = SIRParticleFilterTrustEstimator(\n",
    "    n_particles=n_particles, prior=prior, likelihood=likelihood, n_steps_between_resampling=0,\n",
    ")\n",
    "\n",
    "# configuration for mle estimator\n",
    "prior = {\"type\": \"Beta\", \"mean\": 0.5, \"var\": 0.1**2}\n",
    "estim_mle = MaximumLikelihoodTrustEstimator(\n",
    "    t0=0.0, distribution=prior, update_rate=1, time_window=10, forgetting=0,\n",
    ")\n",
    "\n",
    "# run them\n",
    "dt = 0.1\n",
    "n_steps = 100\n",
    "trusts = []\n",
    "for i in range(n_steps):\n",
    "    t = i * dt\n",
    "    trust = np.clip(0.10 + 0.1**2*np.random.randn(1), 0.0, 1.0)\n",
    "    trusts.append(trust[0])\n",
    "    estim_pf.update(timestamp=t, trust=trust)\n",
    "    estim_mle.update(timestamp=t, trust=trust)\n",
    "\n",
    "plot_estims(estim_mle, estim_pf, trusts)"
   ]
  },
  {
   "cell_type": "code",
   "execution_count": null,
   "metadata": {},
   "outputs": [],
   "source": [
    "# configuration for particle filter\n",
    "n_particles = 10000\n",
    "prior = {\"type\": \"Uniform\", \"a\": 0.0, \"b\": 1.0}\n",
    "likelihood = {\"type\": \"Normal\", \"mean\": 0.0, \"variance\": 0.05**2}\n",
    "estim_pf = SIRParticleFilterTrustEstimator(\n",
    "    n_particles=n_particles, n_eff_pct=0.5, prior=prior, likelihood=likelihood,\n",
    "    n_steps_between_resampling=5, verbose=True,\n",
    ")\n",
    "\n",
    "# configuration for mle estimator\n",
    "prior = {\"type\": \"Beta\", \"mean\": 0.5, \"var\": 0.1**2}\n",
    "estim_mle = MaximumLikelihoodTrustEstimator(\n",
    "    t0=0.0, distribution=prior, update_rate=1, time_window=10, forgetting=0.4,\n",
    ")\n",
    "\n",
    "# run them\n",
    "dt = 0.1\n",
    "n_steps = 100\n",
    "trusts = []\n",
    "for i in range(n_steps):\n",
    "    t = i * dt\n",
    "    if i % 2 == 0:\n",
    "        trust = np.clip(0.1 + 0.1**2*np.random.randn(1), 0.0, 1.0)\n",
    "        trusts.append(trust[0])\n",
    "        estim_pf.update(timestamp=t, trust=trust)\n",
    "        estim_mle.update(timestamp=t, trust=trust)\n",
    "    else:\n",
    "        trust = np.clip(0.8 + 0.1**2*np.random.randn(1), 0.0, 1.0)\n",
    "        trusts.append(trust[0])\n",
    "        estim_pf.update(timestamp=t, trust=trust)\n",
    "        estim_mle.update(timestamp=t, trust=trust)\n",
    "\n",
    "plot_estims(estim_mle, estim_pf, trusts)"
   ]
  },
  {
   "cell_type": "code",
   "execution_count": null,
   "metadata": {},
   "outputs": [],
   "source": []
  },
  {
   "cell_type": "code",
   "execution_count": null,
   "metadata": {},
   "outputs": [],
   "source": []
  }
 ],
 "metadata": {
  "kernelspec": {
   "display_name": "mate-anjulgyC-py3.10",
   "language": "python",
   "name": "python3"
  },
  "language_info": {
   "codemirror_mode": {
    "name": "ipython",
    "version": 3
   },
   "file_extension": ".py",
   "mimetype": "text/x-python",
   "name": "python",
   "nbconvert_exporter": "python",
   "pygments_lexer": "ipython3",
   "version": "3.10.12"
  },
  "vscode": {
   "interpreter": {
    "hash": "47e93aaed00cdf9cc1559b6ae09069cd8788ce5bd0fbfe97e48a970742fcf35b"
   }
  }
 },
 "nbformat": 4,
 "nbformat_minor": 2
}
