{
 "cells": [
  {
   "cell_type": "code",
   "execution_count": null,
   "metadata": {},
   "outputs": [],
   "source": [
    "import numpy as np\n",
    "from mpl_toolkits.mplot3d import Axes3D \n",
    "import matplotlib.pyplot as plt\n",
    "from matplotlib.ticker import MaxNLocator\n",
    "\n",
    "import os\n",
    "\n",
    "os.makedirs('figures', exist_ok=True)\n",
    "\n",
    "\n",
    "SMALL_SIZE = 14\n",
    "MEDIUM_SIZE = 14\n",
    "BIGGER_SIZE = 16\n",
    "\n",
    "plt.rc('font', size=SMALL_SIZE)          # controls default text sizes\n",
    "plt.rc('axes', titlesize=SMALL_SIZE)     # fontsize of the axes title\n",
    "plt.rc('axes', labelsize=MEDIUM_SIZE)    # fontsize of the x and y labels\n",
    "plt.rc('xtick', labelsize=SMALL_SIZE)    # fontsize of the tick labels\n",
    "plt.rc('ytick', labelsize=SMALL_SIZE)    # fontsize of the tick labels\n",
    "plt.rc('legend', fontsize=SMALL_SIZE)    # legend fontsize\n",
    "plt.rc('figure', titlesize=BIGGER_SIZE)  # fontsize of the figure title\n"
   ]
  },
  {
   "cell_type": "code",
   "execution_count": null,
   "metadata": {},
   "outputs": [],
   "source": [
    "Pd = 0.9\n",
    "beta_FT = 1e-6\n",
    "beta_NT = 1e-9\n",
    "det_R = 5\n",
    "M = 3\n",
    "alpha = 1e-4\n",
    "beta = 1e-2\n",
    "T_2 = np.log((1-beta)/alpha)\n",
    "L0 = np.log(Pd*beta_NT/beta_FT)\n",
    "\n",
    "K = lambda n_a, n_b: (T_2 - L0) / \\\n",
    "        (n_a * np.log(Pd/((2*np.pi)**(M/2)*beta_FT*np.sqrt(det_R))) + n_b * np.log(1-Pd))\n",
    "\n",
    "fig = plt.figure()\n",
    "ax = fig.add_subplot(111, projection='3d')\n",
    "n_as = np.arange(1, 4, 0.1)\n",
    "n_bs = np.arange(0, 4, 0.1)\n",
    "X, Y = np.meshgrid(n_as, n_bs)\n",
    "\n",
    "zs = np.array(K(np.ravel(X), np.ravel(Y)))\n",
    "Z = zs.reshape(X.shape)\n",
    "\n",
    "ax.plot_surface(X, Y, Z)\n",
    "\n",
    "\n",
    "ax.set_xlabel('# Adversaries')\n",
    "ax.set_ylabel('# Benign')\n",
    "ax.set_zlabel('Frames to Confirm')\n",
    "\n",
    "ax.xaxis.set_major_locator(MaxNLocator(integer=True))\n",
    "ax.yaxis.set_major_locator(MaxNLocator(integer=True))\n",
    "\n",
    "plt.tight_layout()\n",
    "plt.savefig('figures/frames-to-confirm.pdf')\n",
    "plt.show()"
   ]
  },
  {
   "cell_type": "code",
   "execution_count": null,
   "metadata": {},
   "outputs": [],
   "source": []
  }
 ],
 "metadata": {
  "kernelspec": {
   "display_name": "mate-anjulgyC-py3.10",
   "language": "python",
   "name": "python3"
  },
  "language_info": {
   "codemirror_mode": {
    "name": "ipython",
    "version": 3
   },
   "file_extension": ".py",
   "mimetype": "text/x-python",
   "name": "python",
   "nbconvert_exporter": "python",
   "pygments_lexer": "ipython3",
   "version": "3.10.12"
  },
  "vscode": {
   "interpreter": {
    "hash": "47e93aaed00cdf9cc1559b6ae09069cd8788ce5bd0fbfe97e48a970742fcf35b"
   }
  }
 },
 "nbformat": 4,
 "nbformat_minor": 2
}
